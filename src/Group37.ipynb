{
 "cells": [
  {
   "cell_type": "code",
   "execution_count": 11,
   "metadata": {},
   "outputs": [
    {
     "name": "stderr",
     "output_type": "stream",
     "text": [
      "/var/folders/dq/lm4hsw5542x634hwm_gj_4bm0000gn/T/ipykernel_1026/3488047796.py:6: DtypeWarning: Columns (29) have mixed types. Specify dtype option on import or set low_memory=False.\n",
      "  data = pd.read_csv('/Users/benerugg/DataScience/ML/Project/ML_Group_37/data/train_data.csv')\n"
     ]
    }
   ],
   "source": [
    "# Ensure the necessary library is loaded\n",
    "import numpy as np\n",
    "import pandas as pd\n",
    "\n",
    "data = pd.read_csv('/Users/benerugg/DataScience/ML/Project/ML_Group_37/data/train_data.csv')"
   ]
  },
  {
   "cell_type": "code",
   "execution_count": 18,
   "metadata": {},
   "outputs": [
    {
     "name": "stdout",
     "output_type": "stream",
     "text": [
      "  Accident Date  Age at Injury Alternative Dispute Resolution Assembly Date  \\\n",
      "0    2019-12-30           31.0                              N    2020-01-01   \n",
      "1    2019-08-30           46.0                              N    2020-01-01   \n",
      "2    2019-12-06           40.0                              N    2020-01-01   \n",
      "3           NaN            NaN                            NaN    2020-01-01   \n",
      "4    2019-12-30           61.0                              N    2020-01-01   \n",
      "\n",
      "  Attorney/Representative  Average Weekly Wage  Birth Year    C-2 Date  \\\n",
      "0                       N                 0.00      1988.0  2019-12-31   \n",
      "1                       Y              1745.93      1973.0  2020-01-01   \n",
      "2                       N              1434.80      1979.0  2020-01-01   \n",
      "3                     NaN                  NaN         NaN         NaN   \n",
      "4                       N                  NaN      1958.0  2019-12-31   \n",
      "\n",
      "     C-3 Date                  Carrier Name  ... WCIO Cause of Injury Code  \\\n",
      "0         NaN    NEW HAMPSHIRE INSURANCE CO  ...                      27.0   \n",
      "1  2020-01-14  ZURICH AMERICAN INSURANCE CO  ...                      97.0   \n",
      "2         NaN     INDEMNITY INSURANCE CO OF  ...                      79.0   \n",
      "3         NaN                           NaN  ...                       NaN   \n",
      "4         NaN          STATE INSURANCE FUND  ...                      16.0   \n",
      "\n",
      "   WCIO Cause of Injury Description WCIO Nature of Injury Code  \\\n",
      "0      FROM LIQUID OR GREASE SPILLS                       10.0   \n",
      "1                 REPETITIVE MOTION                       49.0   \n",
      "2    OBJECT BEING LIFTED OR HANDLED                        7.0   \n",
      "3                               NaN                        NaN   \n",
      "4   HAND TOOL, UTENSIL; NOT POWERED                       43.0   \n",
      "\n",
      "  WCIO Nature of Injury Description WCIO Part Of Body Code  \\\n",
      "0                         CONTUSION                   62.0   \n",
      "1                    SPRAIN OR TEAR                   38.0   \n",
      "2                        CONCUSSION                   10.0   \n",
      "3                               NaN                    NaN   \n",
      "4                          PUNCTURE                   36.0   \n",
      "\n",
      "  WCIO Part Of Body Description Zip Code Agreement Reached      WCB Decision  \\\n",
      "0                      BUTTOCKS    13662               0.0  Not Work Related   \n",
      "1                   SHOULDER(S)    14569               1.0  Not Work Related   \n",
      "2          MULTIPLE HEAD INJURY    12589               0.0  Not Work Related   \n",
      "3                           NaN      NaN               NaN               NaN   \n",
      "4                     FINGER(S)    12603               0.0  Not Work Related   \n",
      "\n",
      "   Number of Dependents  \n",
      "0                   1.0  \n",
      "1                   4.0  \n",
      "2                   6.0  \n",
      "3                   NaN  \n",
      "4                   1.0  \n",
      "\n",
      "[5 rows x 33 columns]\n"
     ]
    }
   ],
   "source": [
    "print(data.head())"
   ]
  },
  {
   "cell_type": "code",
   "execution_count": 13,
   "metadata": {},
   "outputs": [
    {
     "name": "stdout",
     "output_type": "stream",
     "text": [
      "\n",
      "Basic information about the dataset:\n",
      "<class 'pandas.core.frame.DataFrame'>\n",
      "RangeIndex: 593471 entries, 0 to 593470\n",
      "Data columns (total 33 columns):\n",
      " #   Column                              Non-Null Count   Dtype  \n",
      "---  ------                              --------------   -----  \n",
      " 0   Accident Date                       570337 non-null  object \n",
      " 1   Age at Injury                       574026 non-null  float64\n",
      " 2   Alternative Dispute Resolution      574026 non-null  object \n",
      " 3   Assembly Date                       593471 non-null  object \n",
      " 4   Attorney/Representative             574026 non-null  object \n",
      " 5   Average Weekly Wage                 545375 non-null  float64\n",
      " 6   Birth Year                          544948 non-null  float64\n",
      " 7   C-2 Date                            559466 non-null  object \n",
      " 8   C-3 Date                            187245 non-null  object \n",
      " 9   Carrier Name                        574026 non-null  object \n",
      " 10  Carrier Type                        574026 non-null  object \n",
      " 11  Claim Identifier                    593471 non-null  int64  \n",
      " 12  Claim Injury Type                   574026 non-null  object \n",
      " 13  County of Injury                    574026 non-null  object \n",
      " 14  COVID-19 Indicator                  574026 non-null  object \n",
      " 15  District Name                       574026 non-null  object \n",
      " 16  First Hearing Date                  150798 non-null  object \n",
      " 17  Gender                              574026 non-null  object \n",
      " 18  IME-4 Count                         132803 non-null  float64\n",
      " 19  Industry Code                       564068 non-null  float64\n",
      " 20  Industry Code Description           564068 non-null  object \n",
      " 21  Medical Fee Region                  574026 non-null  object \n",
      " 22  OIICS Nature of Injury Description  0 non-null       float64\n",
      " 23  WCIO Cause of Injury Code           558386 non-null  float64\n",
      " 24  WCIO Cause of Injury Description    558386 non-null  object \n",
      " 25  WCIO Nature of Injury Code          558369 non-null  float64\n",
      " 26  WCIO Nature of Injury Description   558369 non-null  object \n",
      " 27  WCIO Part Of Body Code              556944 non-null  float64\n",
      " 28  WCIO Part Of Body Description       556944 non-null  object \n",
      " 29  Zip Code                            545389 non-null  object \n",
      " 30  Agreement Reached                   574026 non-null  float64\n",
      " 31  WCB Decision                        574026 non-null  object \n",
      " 32  Number of Dependents                574026 non-null  float64\n",
      "dtypes: float64(11), int64(1), object(21)\n",
      "memory usage: 149.4+ MB\n",
      "None\n"
     ]
    }
   ],
   "source": [
    "print(\"\\nBasic information about the dataset:\")\n",
    "print(data.info())"
   ]
  },
  {
   "cell_type": "code",
   "execution_count": 14,
   "metadata": {},
   "outputs": [
    {
     "name": "stdout",
     "output_type": "stream",
     "text": [
      "\n",
      "Summary statistics of the dataset:\n",
      "       Age at Injury  Average Weekly Wage     Birth Year  Claim Identifier  \\\n",
      "count  574026.000000         5.453750e+05  544948.000000      5.934710e+05   \n",
      "mean       42.114270         4.910883e+02    1886.767604      2.366760e+07   \n",
      "std        14.256432         6.092918e+03     414.644423      1.079271e+08   \n",
      "min         0.000000         0.000000e+00       0.000000      5.393066e+06   \n",
      "25%        31.000000         0.000000e+00    1965.000000      5.593414e+06   \n",
      "50%        42.000000         0.000000e+00    1977.000000      5.791212e+06   \n",
      "75%        54.000000         8.410000e+02    1989.000000      5.991000e+06   \n",
      "max       117.000000         2.828079e+06    2018.000000      9.998917e+08   \n",
      "\n",
      "         IME-4 Count  Industry Code  OIICS Nature of Injury Description  \\\n",
      "count  132803.000000  564068.000000                                 0.0   \n",
      "mean        3.207337      58.645305                                 NaN   \n",
      "std         2.832303      19.644175                                 NaN   \n",
      "min         1.000000      11.000000                                 NaN   \n",
      "25%         1.000000      45.000000                                 NaN   \n",
      "50%         2.000000      61.000000                                 NaN   \n",
      "75%         4.000000      71.000000                                 NaN   \n",
      "max        73.000000      92.000000                                 NaN   \n",
      "\n",
      "       WCIO Cause of Injury Code  WCIO Nature of Injury Code  \\\n",
      "count              558386.000000               558369.000000   \n",
      "mean                   54.381143                   41.013839   \n",
      "std                    25.874281                   22.207521   \n",
      "min                     1.000000                    1.000000   \n",
      "25%                    31.000000                   16.000000   \n",
      "50%                    56.000000                   49.000000   \n",
      "75%                    75.000000                   52.000000   \n",
      "max                    99.000000                   91.000000   \n",
      "\n",
      "       WCIO Part Of Body Code  Agreement Reached  Number of Dependents  \n",
      "count           556944.000000      574026.000000         574026.000000  \n",
      "mean                39.738146           0.046665              3.006559  \n",
      "std                 22.365940           0.210921              2.000801  \n",
      "min                 -9.000000           0.000000              0.000000  \n",
      "25%                 33.000000           0.000000              1.000000  \n",
      "50%                 38.000000           0.000000              3.000000  \n",
      "75%                 53.000000           0.000000              5.000000  \n",
      "max                 99.000000           1.000000              6.000000  \n"
     ]
    }
   ],
   "source": [
    "# Display summary statistics of the dataframe\n",
    "print(data.describe())\n",
    "\n"
   ]
  },
  {
   "cell_type": "code",
   "execution_count": 15,
   "metadata": {},
   "outputs": [
    {
     "name": "stdout",
     "output_type": "stream",
     "text": [
      "\n",
      "Missing values in the dataset:\n",
      "Accident Date                          23134\n",
      "Age at Injury                          19445\n",
      "Alternative Dispute Resolution         19445\n",
      "Assembly Date                              0\n",
      "Attorney/Representative                19445\n",
      "Average Weekly Wage                    48096\n",
      "Birth Year                             48523\n",
      "C-2 Date                               34005\n",
      "C-3 Date                              406226\n",
      "Carrier Name                           19445\n",
      "Carrier Type                           19445\n",
      "Claim Identifier                           0\n",
      "Claim Injury Type                      19445\n",
      "County of Injury                       19445\n",
      "COVID-19 Indicator                     19445\n",
      "District Name                          19445\n",
      "First Hearing Date                    442673\n",
      "Gender                                 19445\n",
      "IME-4 Count                           460668\n",
      "Industry Code                          29403\n",
      "Industry Code Description              29403\n",
      "Medical Fee Region                     19445\n",
      "OIICS Nature of Injury Description    593471\n",
      "WCIO Cause of Injury Code              35085\n",
      "WCIO Cause of Injury Description       35085\n",
      "WCIO Nature of Injury Code             35102\n",
      "WCIO Nature of Injury Description      35102\n",
      "WCIO Part Of Body Code                 36527\n",
      "WCIO Part Of Body Description          36527\n",
      "Zip Code                               48082\n",
      "Agreement Reached                      19445\n",
      "WCB Decision                           19445\n",
      "Number of Dependents                   19445\n",
      "dtype: int64\n"
     ]
    }
   ],
   "source": [
    "# Check for missing values\n",
    "print(\"\\nMissing values in the dataset:\")\n",
    "print(data.isnull().sum()) "
   ]
  }
 ],
 "metadata": {
  "kernelspec": {
   "display_name": "DM2024",
   "language": "python",
   "name": "python3"
  },
  "language_info": {
   "codemirror_mode": {
    "name": "ipython",
    "version": 3
   },
   "file_extension": ".py",
   "mimetype": "text/x-python",
   "name": "python",
   "nbconvert_exporter": "python",
   "pygments_lexer": "ipython3",
   "version": "3.12.2"
  }
 },
 "nbformat": 4,
 "nbformat_minor": 2
}
